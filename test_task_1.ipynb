{
 "cells": [
  {
   "cell_type": "code",
   "execution_count": 3,
   "id": "90b73b5b",
   "metadata": {},
   "outputs": [],
   "source": [
    "from collections import defaultdict"
   ]
  },
  {
   "cell_type": "markdown",
   "id": "c7a28736",
   "metadata": {},
   "source": [
    "Исходя из условия, предполагаю, что id выглядят следующим образом: [0000000, 0000001, ...], то есть список с элементом(id) типа- строка"
   ]
  },
  {
   "cell_type": "code",
   "execution_count": 31,
   "id": "edde5192",
   "metadata": {},
   "outputs": [],
   "source": [
    "def groupby_id(n_customers):\n",
    "    space_id = 7\n",
    "    group_id = defaultdict(list)\n",
    "    \n",
    "    for i in range(n_customers + 1):\n",
    "        num = int(i)\n",
    "        num_zero = ''.join(['0' for _ in range(space_id - len(str(num)))])\n",
    "        res_id = num_zero + str(num)\n",
    "        cnt = sum([int(x) for x in res_id.strip('0')])\n",
    "        group_id[cnt].append(res_id)\n",
    "    return group_id"
   ]
  },
  {
   "cell_type": "code",
   "execution_count": 32,
   "id": "dd620159",
   "metadata": {},
   "outputs": [
    {
     "name": "stdout",
     "output_type": "stream",
     "text": [
      "(0, ['0000000']) (1, ['0000001', '0000010']) (2, ['0000002', '0000011']) (3, ['0000003', '0000012']) (4, ['0000004']) (5, ['0000005']) (6, ['0000006']) (7, ['0000007']) (8, ['0000008']) (9, ['0000009'])\n"
     ]
    }
   ],
   "source": [
    "#test\n",
    "print(*list(groupby_id(12).items()))"
   ]
  },
  {
   "cell_type": "code",
   "execution_count": 27,
   "id": "4112ffa4",
   "metadata": {},
   "outputs": [],
   "source": [
    "def groupby_id_with_first(n_customers, n_first_id):\n",
    "    space_id = 7\n",
    "    group_id = defaultdict(list)\n",
    "    \n",
    "    for i in range(n_first_id, n_customers + 1):\n",
    "        num = int(i)\n",
    "        num_zero = ''.join(['0' for _ in range(space_id - len(str(num)))])\n",
    "        res_id = num_zero + str(num)\n",
    "        cnt = sum([int(x) for x in res_id.strip('0')])\n",
    "        group_id[cnt].append(res_id)\n",
    "    return group_id"
   ]
  },
  {
   "cell_type": "code",
   "execution_count": 36,
   "id": "533b78de",
   "metadata": {},
   "outputs": [
    {
     "name": "stdout",
     "output_type": "stream",
     "text": [
      "(3, ['0000003', '0000012']) (4, ['0000004']) (5, ['0000005']) (6, ['0000006']) (7, ['0000007']) (8, ['0000008']) (9, ['0000009']) (1, ['0000010']) (2, ['0000011'])\n"
     ]
    }
   ],
   "source": [
    "#test\n",
    "print(*list(groupby_id_with_first(12, 3).items()))"
   ]
  }
 ],
 "metadata": {
  "kernelspec": {
   "display_name": "Python 3 (ipykernel)",
   "language": "python",
   "name": "python3"
  },
  "language_info": {
   "codemirror_mode": {
    "name": "ipython",
    "version": 3
   },
   "file_extension": ".py",
   "mimetype": "text/x-python",
   "name": "python",
   "nbconvert_exporter": "python",
   "pygments_lexer": "ipython3",
   "version": "3.9.12"
  }
 },
 "nbformat": 4,
 "nbformat_minor": 5
}
